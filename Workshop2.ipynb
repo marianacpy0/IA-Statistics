{
  "nbformat": 4,
  "nbformat_minor": 0,
  "metadata": {
    "colab": {
      "name": "Workshop2.ipynb",
      "provenance": [],
      "collapsed_sections": []
    },
    "kernelspec": {
      "name": "python3",
      "display_name": "Python 3"
    },
    "language_info": {
      "name": "python"
    }
  },
  "cells": [
    {
      "cell_type": "markdown",
      "source": [
        "**Workshop 2**\n",
        "\n",
        "Mariana Castro Payns - A01706038"
      ],
      "metadata": {
        "id": "VvUFZO0zFASd"
      }
    },
    {
      "cell_type": "markdown",
      "source": [
        "**2. The Central Limit Theorem**\n",
        "\n",
        "One of the most important discoveries in the history of mathematics and statistics. \n",
        "\n",
        "***2.1 The Uniform Probability Distribution (PDF)***\n",
        "\n",
        "\n",
        "The PDF for a uniform variable is:\n",
        "\n",
        "![Screenshot 2022-08-21 202355.png](data:image/png;base64,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)\n",
        "\n",
        "\n",
        "Where the function is equal to zero for values outside the range between a and b. \n",
        "\n",
        "The area under the line (1/(b - a) is 1 or (100%).\n",
        "\n",
        "The expected value of a random X variable, or the mid point of the range from a to b is given by:\n",
        "\n",
        "![Screenshot 2022-08-21 202459.png](data:image/png;base64,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)\n",
        "\n",
        "The expected value of a random variable is the theoretical mean of the random variable according to its probability distribution.\n",
        "\n",
        "The variance of a variable with the uniform distribution is:\n",
        "\n",
        "![Screenshot 2022-08-21 202731.png](data:image/png;base64,iVBORw0KGgoAAAANSUhEUgAAARsAAAB6CAYAAACP8vdqAAAAAXNSR0IArs4c6QAAAARnQU1BAACxjwv8YQUAAAAJcEhZcwAAEnQAABJ0Ad5mH3gAAA+TSURBVHhe7Z0JsFVzHMf/yb6NPfuenZB9rNlSWaeMfWlsWWKGRmEovCyhrBN69i1ryPJIhJB9G2GISCEPUXik435+nVPX7e7vvP95nfv9zJx5t/899753X+98z2//twkyOCGEaGEWCL8KIUSLIrERQnhBYiOE8ILERgjhBYmNEMILEhshhBckNkIIL0hshBBekNgIIbwgsRFCeEFiI4TwgsRGCOEFiY0QwgsSGyGEFyQ2QggvSGyEEF6Q2AghvCCxEUJ4QWIjhPCCxEYI4QWJjRDCCxIbIYQXJDZCCC9IbIQQXpDYCCG8ILERQnhBYiOE8ILERgjhBYmNEMILEhshhBckNkIIL0hshBBekNgIIbwgsRFCeEFiI4TwQpsgQ/hYCOGRadOmufr6ejdy5Ej3119/ud13392dccYZbpVVVgnPSBcSGyESAHG577773J577unWXHNN9+2337oBAwa4tm3buoEDB7oVVlghPDM9yI0SIgEmT57s9tprL7fWWmu5Nm3amOCcffbZ7uuvv3YffPBBeFa6kNiIFuPff/91zz//vHvrrbfCFeeamprcmDFj3IknnuieeOKJcDU9vPPOO+65555zf//9d7iSn3XXXdcEJptVV13VDn5HaURiI1oE4hFDhgxxa6+9ttt2221t7b333nPXX3+9uQk8TiMdO3Z066yzjrv44ovNeqkEBGrhhRd27du3D1fShcRGxM5PP/3k6urqXNeuXf934Wy11VbmKnTp0iVcSSd85p49e7pBgwa5iRMnhqul+eKLL9yWW25pVk8akdiIWPnjjz/Metlkk03chhtuGK7OhfjEAguk/88O64bs0uWXX+5+/vnncLUw06dPd2+//bY79NBDLUicRiQ2IlZefPFF98knn1jwE2GpVfjse+yxhz0mNlUs6Utsi3O6deuWyixUhMRGxMbUqVPd8OHDzRVo165duFq7LLXUUhaveuSRRyzLlA9EqKGhwa2//vqpdZ8iJDYiNgj6YtXgQi200ELhanEIij788MMW39lpp53ceeed57777rvw2eQhM/Too4+6ww8/3G2zzTZuhx12sHgMGScskmJg3WywwQZuypQpZvHlWjf8m2wd1kwUROf38fTTT1ccXJ4fkNiIWKBI7eWXX7bH1I6UA3GKK664wj3wwANmBcyaNcsuYi7mN998MzwrOfhMxFzuuece169fP0vhP/nkk27llVd2F154oXv22WfDMwtDKhsr79VXX3W//vpruOrss/Je/fv3d6eeeqqJDWKG4L722mtuueWWC89MDxIbEQsEQT/77DMrtV922WXD1eI888wz7qCDDnIPPfSQCc6DDz7oOnTo4BobG91dd93lfvvtt/DMZCA79MILL5ilhoWCpbLiiivazzxz5kz3/vvvu3/++Sc8Oz/LLLOMW3755e29si02rCVKAPLV42y66aZu0UUXDf+VHiQ2IhZ+/PFHK7nHQlliiSXC1eL06NHDbb755nMCyRS59enTxy5oMjNcoLlgHRx33HFmBVRykCGrFKyL1Vdf3Sy1bLdwwQUXtK9//vlnSVeKzBsHWboffvghXHWue/fu7o033rDPmXvgsqURiY2IBe7Q3O0pSuOoFoKkO+64o73XpEmTwtW5YCnccccdeS/SYgcNjpWCC0T/EtXOpKMROiywK6+8MjyjNFgoCBbMmDHDvtYqEhsRC99//334qHkgVJEb1loCxQRrEZjTTjvNLb744q5Xr17hM5VRSYFfGpHYiFggaBo3q622WvgoGcgWEbA++eST3UYbbeRuv/12d8ABB5irWA3lBs7TisRGxAIWCbEMXI04Aru8V+R+JAWpfLJRBx98sNt///2rcg/JOhHbgSjWU6tIbEQsrLTSSm6NNdaw7AzxlmohkEoBHH1UFLolydixY004N9tsszlB7EohlkV2Dfcrt8u71pDYiFggc0MvFBkXGjHLIV8m591333UfffSRO/74493SSy8driYL9TXRz4qVQsAZsFpwtcjEFUqB//LLLyY2CGfSbmHSSGxELJB12XXXXe3xl19+aV8LwUWHSzJ06FDrCcKa4WKmyvbqq69255xzzpyK2iTZeOONzfW5++67rVv9mmuucWeeeaZlxBBXUtcUJVJvU8hFooWDCuKdd97ZXlfLSGxEbOD6UAA3YcKEosVuhxxyiLUoEGwdNmyYiRRjJ15//XV3ww03uH322adqtyVOaKTs3bu3uUAffvihrTE2gp916623dosttphV/BZrOv3444+tbmiXXXZpFZ8pSTSDuEK4A48ePdruUs29+2J+jxo1ynXu3Dk15elPPfWU1cEMHjw48QBv0hDvOffcc02YaMFI6+iIcvFi2WAq56vq5ChU2ZnvNRdccIH1qyRFvulzzYGg6oEHHmh3d/qK0qD7DPAmoEorQqnq2rQTWUNks2pdaAwsGx9k7uLBwIEDg44dO9qRMU+DyZMnB7NmzQrP+D+ZP9Qg4/sHmTtCkDFngxEjRgQZoQmf9U/G9w769OkTjB8/PlyJjxkzZgSXXnpp0NDQUPD3MT/R2NgY9OvXLxg3bly4Unvw9963b1/7Gxaz8RazwW894YQTzKcH7uq01hfyY+knoQiKYip6RRgstMgii4TP+qXU9LnmQkzgsMMOMwsnDbN5cQnPP/98yywRs6g1CArff//91iKR9hk1leA1QIzgUBwFTKHPbkzLB53ElKzvt99+iZqhPqbP8UdJ7Oa2225LvNs5DmjGPOmkk0yoydbUCp9//rkFuqk6prdKzMV7NorMA9bBN998Y/8pxeAuj3WT5A6BvqbPIWLEpfDzX3rppXB1/gbrdLvttrPfXa3AKAqybElZ4a0Z72KD+0QQERgexMWcD+7uTCzDmihk1ZDNueqqq9y+++5rF2qnTp1syBF3l3xk3EazlG688UYbWERpPXddXBiCeBST5VJq+txXX31l1lp2IJsDFyJ3HAKPWSsE/UVkcAiupsG6ESIb72LDHZw6Ckq3uYgLWTf4+sR0CsVIKGk/5ZRTzNXCP2ayG0VXDHDq27fvPDNfqfxkSNO1115rDXWY9+PHj3fXXXedWVnMYsm1KMqZPscUfWpGGEMQFXbRIUy6k/Q4+weRvTr99NPdzTffXLSwiwY/zkXg8s1yyUeuoJV7VDPfRYhmMTtO7JeZM2cGGWGwrFRGMIJp06aFz8ymqakpuOSSS4KxY8eGK/NSX19vr3/88cfDlcAyOUOGDLH1UaNGhav/J2PZBN27dw86d+4cDB482DJBkyZNCu68885g4sSJ4Vmzic7t1q1bMGHChHA1P/zMdXV19r3JxPC+fM6hQ4faweNSZP/8fD4h0oR3ywZwi8guETCm74Sy72ywTuivoV6jEFgAjFvMLhzDaor2JCo0qIjMD8FLqj+Zlsa/KZ8/5phj5mmUw00rd/oc5fcERLFoGEtw77332txZStWPPvrosgLc2T8/rys1clKI+YnEKojphiXewixWNvNi8POSSy5phWC4Nuutt54F2sqBj0CJfMbKcSNHjrR4BwOp870et+Oss86yxxToFXNrcM2I7SB6pc6NIO5D/wxuWsZCcQMGDKhoLyCKGXG9yExRxNiaZ9Hijgk/RM2f8zOJtiuQeSGWgfAQb6HPhFGQiBB1Glg+xaDrlvgG6WIslSOOOMLiLoxyjENsogu/ErHh10ngm2HWW2yxhX2tRmzK/Z7R56m0nuXYY4+talSmENWSiBsVQcEe2Sbmn4wYMcKsAWaIcJGWukA5F4HCCmJcIw1yuDDl7ldUDtVMn0MAGZGJ20VGig3Kqinbxz0sx6pBjHzN5BWiOSQqNsQ5EBuyOMRtaErEMinVIcvFS0wEK4DWf9LSxc6vlkqnz2HV0IgIWFsU6pH5Kmd/oYgo1kSMJ4rfCJEGEv9rpuCLQj8sFdyHcrYh/f33380CIkjckp3FlU6fI9hNzOaoo46yVDlzWQhA19fXW0ypHKLBU7y+mjGUQrRWEhcbLkbqbrAgeLz33nuX3ZpALQ2ZqwgK9j799FN7jPXDUaglAgsCgStGJdPnEJPHHnvMytT5HECAmL4u6nhw+UpZR9T18L34XdRS1a2oDVqFnU5JO4OX2Ee5nLmzXMyUhSMWBJIvu+wyy9xgQRAHAgr4mKKWnQInnkIgFWEgpT1u3Lii8ZRyp88hJnV1ddbOkD3KEtHkM0VT3Qj4FhMcPg/v1Rrm7woRN237k3NOGPpIEAIEJBKLYnARs0UpVgCtCbhVZJ4YUMSeQ1Ql4wJhZUQuGVYDaWgmweEW8f1eeeUVi7GwKVqhLWMRDzJefE/Oy7W6iOcwIAn3iewa7tb2229vzxEgptM9mq6PFUYNTqHvh6ARi6J9gmC3EGlCk/rKwMf0Of4bCCYT98FKSsvkPiEilO4oAx/T56hWJujNrgISGpFGJDZlQOyGuhQ6vJnDEzcIGJXUDAJvDbsKCNESyI2qAILNbOvBthzF+rYqgeppslgMWuJ9W6JeSIjWgMSmQggsU4FLDUxz09Nkpij4o4gxyQFhQvhAYiOE8IJiNkIIL0hsRKogBkZ/HVMcCegXgymPlDNEY2Wp9mZiQFQXJeJFbpRIBdOnT7eCSarIKfYkBsZEAMa25oMqcnrXqNjOhYLKSkeDiNLIshGpgPIEdhdlznPuxMVcaAu55ZZbrBWloaHBAv5YQwxKI/BP5TfPYyWJ+JDYiFRA8yqtJEx7zO5PywdWTfv27a12itGywOsoqGTKItCiUqr5VlSGxEbUHI2NjdZLl9vnRo0TZQi4XvTSNTU1hc+IOJDYiJpjt912KzhylokCTFksZ8i9qAyJjRBZEKfh6NChQ8FJAKI6JDZCZMHAfWI1Xbp0iXWetZDYCDEHLBraR3r06GFzrUW8SGyECKGjnw78I488cp7gsWg+EhshMkydOtWNHj3a9erVa84MaREvEhtR8zA6ZPjw4bYrhqqGWw6JjahpqCa+9dZbLSDM9jmi5ZDYiJoFoaGXigK/UnuVieYjsRE1Ca7TsGHDXNeuXecRGnqTaebkeWI5Ih7U9S1SA1MU2aSQrXUQiYsuusg2QMzNLDFagh0sxowZE67kh8ZM+qU0qjUeJDYiFTC7pnfv3m7KlCnhylzo4I724UJo2NiQLXOKQUbqpptuim3WtJDYCCE8oZiNEMILEhshhBckNkIIL0hshBBekNgIIbwgsRFCeEFiI4TwgsRGCOEFiY0QwgsSGyGEFyQ2QggvSGyEEF6Q2AghvCCxEUJ4QWIjhPCCxEYI4QWJjRDCCxIbIYQXJDZCCC9IbIQQXpDYCCG8ILERQnjAuf8AZYJO+EcAKvwAAAAASUVORK5CYII=)"
      ],
      "metadata": {
        "id": "BuVsk6P0Fkqu"
      }
    },
    {
      "cell_type": "markdown",
      "source": [
        "***2.2 Monte Carlo simulation***"
      ],
      "metadata": {
        "id": "dNEUZVCRKizm"
      }
    },
    {
      "cell_type": "code",
      "source": [
        "!pip install symbulate"
      ],
      "metadata": {
        "colab": {
          "base_uri": "https://localhost:8080/"
        },
        "id": "i-SjSz7EKp4R",
        "outputId": "3f648284-491e-45a1-daa2-6803b82ea7f5"
      },
      "execution_count": 1,
      "outputs": [
        {
          "output_type": "stream",
          "name": "stdout",
          "text": [
            "Looking in indexes: https://pypi.org/simple, https://us-python.pkg.dev/colab-wheels/public/simple/\n",
            "Requirement already satisfied: symbulate in /usr/local/lib/python3.7/dist-packages (0.5.7)\n",
            "Requirement already satisfied: scipy in /usr/local/lib/python3.7/dist-packages (from symbulate) (1.7.3)\n",
            "Requirement already satisfied: matplotlib in /usr/local/lib/python3.7/dist-packages (from symbulate) (3.2.2)\n",
            "Requirement already satisfied: numpy in /usr/local/lib/python3.7/dist-packages (from symbulate) (1.21.6)\n",
            "Requirement already satisfied: kiwisolver>=1.0.1 in /usr/local/lib/python3.7/dist-packages (from matplotlib->symbulate) (1.4.4)\n",
            "Requirement already satisfied: pyparsing!=2.0.4,!=2.1.2,!=2.1.6,>=2.0.1 in /usr/local/lib/python3.7/dist-packages (from matplotlib->symbulate) (3.0.9)\n",
            "Requirement already satisfied: python-dateutil>=2.1 in /usr/local/lib/python3.7/dist-packages (from matplotlib->symbulate) (2.8.2)\n",
            "Requirement already satisfied: cycler>=0.10 in /usr/local/lib/python3.7/dist-packages (from matplotlib->symbulate) (0.11.0)\n",
            "Requirement already satisfied: typing-extensions in /usr/local/lib/python3.7/dist-packages (from kiwisolver>=1.0.1->matplotlib->symbulate) (4.1.1)\n",
            "Requirement already satisfied: six>=1.5 in /usr/local/lib/python3.7/dist-packages (from python-dateutil>=2.1->matplotlib->symbulate) (1.15.0)\n"
          ]
        }
      ]
    },
    {
      "cell_type": "code",
      "execution_count": 18,
      "metadata": {
        "id": "dTq3SZlDE_c8"
      },
      "outputs": [],
      "source": [
        "from symbulate import *\n",
        "import matplotlib\n",
        "\n",
        "import matplotlib.pyplot as plt"
      ]
    },
    {
      "cell_type": "markdown",
      "source": [
        "\n",
        "\n",
        "> ***2.2.1 Simulating numbers with the UNIFORM probability distribution***\n",
        "\n",
        "We define a unifrom random variable X and simulate 10,000 uniform random numbers with values from 0 to 40.\n",
        "\n"
      ],
      "metadata": {
        "id": "0URXu4q7Lfwa"
      }
    },
    {
      "cell_type": "code",
      "source": [
        "# clear the plot space:\n",
        "plt.clf()\n",
        "# Define the probability type of function as uniform (probability space)\n",
        "P = Uniform(0,40)\n",
        "# Define X as a random variable of the type P (uniform)\n",
        "X = RV(P)\n",
        "# Simulate the values of X and save the in the x array: \n",
        "x = X.sim(10000)\n",
        "x.plot() \n",
        "plt.show()"
      ],
      "metadata": {
        "colab": {
          "base_uri": "https://localhost:8080/",
          "height": 267
        },
        "id": "a4Kf8taYLrNQ",
        "outputId": "c48e7e3e-dca2-4487-b236-b85b10ab6a1d"
      },
      "execution_count": 3,
      "outputs": [
        {
          "output_type": "display_data",
          "data": {
            "text/plain": [
              "<Figure size 432x288 with 1 Axes>"
            ],
            "image/png": "[encoded data removed]"
          },
          "metadata": {
            "needs_background": "light"
          }
        }
      ]
    },
    {
      "cell_type": "markdown",
      "source": [
        "\n",
        "\n",
        "> ***2.2.2 CHALLENGE***\n",
        "\n",
        "A. Calculate the mean and standard deviation of this simulated uniform X variable. How close were this values from the theoretical mean and standard deviation?\n",
        "\n"
      ],
      "metadata": {
        "id": "qxiaUeNwMMKw"
      }
    },
    {
      "cell_type": "code",
      "source": [
        "# Calculate mean\n",
        "mean = x.mean()\n",
        "print(\"The mean of the simulated uniform X variable is: \", mean)\n",
        "# Calculate standard deviation\n",
        "std = x.std()\n",
        "print(\"The standard deviation of uniform X variable is: \", std)"
      ],
      "metadata": {
        "colab": {
          "base_uri": "https://localhost:8080/"
        },
        "id": "YCzRqJ2LMgR1",
        "outputId": "d05d5e08-6b09-4a7a-827b-1849c4f02092"
      },
      "execution_count": 4,
      "outputs": [
        {
          "output_type": "stream",
          "name": "stdout",
          "text": [
            "The mean of the simulated uniform X variable is:  19.997578055201117\n",
            "The standard deviation of uniform X variable is:  11.529837377190523\n"
          ]
        }
      ]
    },
    {
      "cell_type": "markdown",
      "source": [
        "INTERPRETATION:\n",
        "\n",
        "> HAVING CALCULATED BOTH VALUES IT IS POSSIBLE TO SAY THAT BOTH THE MEAN AND THE STD ARE PRETTY CLOSE TO THE THEORETICAL VALUES, SINCE THE THEORETICAL VALUES WERE 20 FOR THE MEAN AND 11.54 FOR THE STD. \n",
        "\n"
      ],
      "metadata": {
        "id": "NDA9aDqwOvvc"
      }
    },
    {
      "cell_type": "markdown",
      "source": [
        "B. Interpet the above histogram. What do you see? Explain with your words.\n",
        "\n",
        "INTERPRETATION:\n",
        "\n",
        "\n",
        "> THE HISTOGRAM INDICATES THE DENSITY OF THE NUMBERS BETWEEN 0-40, IN THIS CASE, WE CAN SEE THE MAJORITY OF DENSITY OF ABOVE 0.025 FOR THE NUMBERS BETWEEN APROXIMATELY 36 AND 10. THE LOWEST DENSITY GOES FROM NUMBER 40 AND SEVERAL OTHERS, HOWEVER WE CAN SEE HOW MOST NUMBERS HAVE A SIMILAR RANGE OF DENSITY, WITH NEVER BELOW A DENSITY OF 0.020. \n",
        "\n"
      ],
      "metadata": {
        "id": "3Y0QmE6VPww8"
      }
    },
    {
      "cell_type": "markdown",
      "source": [
        "Now generate 10,000 groups of 25 uniform random variables to end up in a matrix of 10,000 rows and 25 columns"
      ],
      "metadata": {
        "id": "l4t6iMO0RGpw"
      }
    },
    {
      "cell_type": "code",
      "source": [
        "# Define the probability space as a vector of 25 uniform random numbers:\n",
        "P = Uniform(0,40) ** 25\n",
        "# Define XVECTOR as a vector of random variables with 25 random values \n",
        "XVECTOR =RV(P)\n",
        "# Simulate 10,000 vectors to get a matrix  \n",
        "xmatrix=XVECTOR.sim(10000)"
      ],
      "metadata": {
        "id": "tW2G1XDpRUbc"
      },
      "execution_count": 5,
      "outputs": []
    },
    {
      "cell_type": "markdown",
      "source": [
        "xmatriz will have 10,000 rows and 25 columns of uniform random numbers between 0 to 40:"
      ],
      "metadata": {
        "id": "XpuAiPPfRXwu"
      }
    },
    {
      "cell_type": "code",
      "source": [
        "xmatrix"
      ],
      "metadata": {
        "colab": {
          "base_uri": "https://localhost:8080/",
          "height": 449
        },
        "id": "Q7hYVFVRRfIT",
        "outputId": "326646fa-e1a1-45e3-e961-da31d2c5daa7"
      },
      "execution_count": 6,
      "outputs": [
        {
          "output_type": "execute_result",
          "data": {
            "text/plain": [
              "Index Result\n",
              "0     (19.661482597399175, 1.5492629437634564, 2.2523727508809532, 22.262407718030907, 35.245665811347784, ..., 39.237876844837544)\n",
              "1     (20.243959933535717, 24.145736466020246, 3.0286235719265697, 8.54230202773628, 20.78262745448226, ..., 1.001248996821933)\n",
              "2     (19.431542313642417, 3.4354229312934104, 0.5033470748497493, 0.09180286151162509, 13.728301440575198, ..., 17.380984208589545)\n",
              "3     (11.197151788687925, 14.494706420911099, 38.5115545830126, 39.84913613453688, 5.58551517622123, ..., 22.253714260450987)\n",
              "4     (39.265079378802014, 21.826427499878164, 29.768750108391963, 17.537860918197104, 36.82097472913671, ..., 19.95521956221655)\n",
              "5     (36.17013607771738, 37.35556238668343, 27.029575044701165, 15.54607848104428, 5.500392479984324, ..., 11.220148614757628)\n",
              "6     (0.7314486162033607, 4.36233265961083, 20.721084882555157, 38.30126480264548, 24.09585558300655, ..., 19.638372646471257)\n",
              "7     (8.961177326032189, 36.81931393526482, 25.62394989377244, 11.656666046072681, 17.652418822694457, ..., 30.774205854890337)\n",
              "8     (33.426211391615205, 34.572009713468546, 36.3477834044443, 11.335512197379845, 27.45590967281108, ..., 1.7455536027405438)\n",
              "....  ..........................................................................................................................\n",
              "9999  (35.033889402994674, 4.990195230665346, 38.249659544510884, 2.211901735046755, 10.56154162843194, ..., 5.4389157537632515)"
            ],
            "text/html": [
              "\n",
              "    <table>\n",
              "      <thead>\n",
              "        <th width=\"10%\">Index</th>\n",
              "        <th width=\"90%\">Result</th>\n",
              "      </thead>\n",
              "      <tbody>\n",
              "        \n",
              "        <tr>\n",
              "          <td>0</td><td>(19.661482597399175, 1.5492629437634564, 2.2523727508809532, 22.262407718030907, 35.245665811347784,...</td>\n",
              "        </tr>\n",
              "        \n",
              "        <tr>\n",
              "          <td>1</td><td>(20.243959933535717, 24.145736466020246, 3.0286235719265697, 8.54230202773628, 20.78262745448226, .....</td>\n",
              "        </tr>\n",
              "        \n",
              "        <tr>\n",
              "          <td>2</td><td>(19.431542313642417, 3.4354229312934104, 0.5033470748497493, 0.09180286151162509, 13.728301440575198...</td>\n",
              "        </tr>\n",
              "        \n",
              "        <tr>\n",
              "          <td>3</td><td>(11.197151788687925, 14.494706420911099, 38.5115545830126, 39.84913613453688, 5.58551517622123, ...,...</td>\n",
              "        </tr>\n",
              "        \n",
              "        <tr>\n",
              "          <td>4</td><td>(39.265079378802014, 21.826427499878164, 29.768750108391963, 17.537860918197104, 36.82097472913671, ...</td>\n",
              "        </tr>\n",
              "        \n",
              "        <tr>\n",
              "          <td>5</td><td>(36.17013607771738, 37.35556238668343, 27.029575044701165, 15.54607848104428, 5.500392479984324, ......</td>\n",
              "        </tr>\n",
              "        \n",
              "        <tr>\n",
              "          <td>6</td><td>(0.7314486162033607, 4.36233265961083, 20.721084882555157, 38.30126480264548, 24.09585558300655, ......</td>\n",
              "        </tr>\n",
              "        \n",
              "        <tr>\n",
              "          <td>7</td><td>(8.961177326032189, 36.81931393526482, 25.62394989377244, 11.656666046072681, 17.652418822694457, .....</td>\n",
              "        </tr>\n",
              "        \n",
              "        <tr>\n",
              "          <td>8</td><td>(33.426211391615205, 34.572009713468546, 36.3477834044443, 11.335512197379845, 27.45590967281108, .....</td>\n",
              "        </tr>\n",
              "        <tr><td>...</td><td>...</td></tr>\n",
              "        <tr>\n",
              "          <td>9999</td><td>(35.033889402994674, 4.990195230665346, 38.249659544510884, 2.211901735046755, 10.56154162843194, .....</td>\n",
              "        </tr>\n",
              "        \n",
              "      </tbody>\n",
              "    </table>\n",
              "        "
            ]
          },
          "metadata": {},
          "execution_count": 6
        }
      ]
    },
    {
      "cell_type": "markdown",
      "source": [
        "Now we get the mean of each row, so we end up with 10,000 sample means"
      ],
      "metadata": {
        "id": "pg_kbVOZRiQc"
      }
    },
    {
      "cell_type": "code",
      "source": [
        "# The 2nd parameter is the mathematical operation applied to each row of the random vector\n",
        "# Simulate 10,000 means of each random vector of 25 uniform distributed numbers: \n",
        "xmean = RV(P,mean).sim(10000)\n",
        "xmean"
      ],
      "metadata": {
        "colab": {
          "base_uri": "https://localhost:8080/",
          "height": 275
        },
        "id": "OI8D2v2pUr6V",
        "outputId": "e34ae5c4-38c2-408d-f349-1d170507ce48"
      },
      "execution_count": 9,
      "outputs": [
        {
          "output_type": "execute_result",
          "data": {
            "text/plain": [
              "Index Result\n",
              "0     18.501327101342984\n",
              "1     18.287657917623257\n",
              "2     15.098581971266196\n",
              "3     21.402752391223704\n",
              "4     19.515712391167664\n",
              "5     19.80897034037129\n",
              "6     18.95473946096996\n",
              "7     14.594439968464997\n",
              "8     20.924877201538674\n",
              "....  ..................\n",
              "9999  20.930053425861438"
            ],
            "text/html": [
              "\n",
              "    <table>\n",
              "      <thead>\n",
              "        <th width=\"10%\">Index</th>\n",
              "        <th width=\"90%\">Result</th>\n",
              "      </thead>\n",
              "      <tbody>\n",
              "        \n",
              "        <tr>\n",
              "          <td>0</td><td>18.501327101342984</td>\n",
              "        </tr>\n",
              "        \n",
              "        <tr>\n",
              "          <td>1</td><td>18.287657917623257</td>\n",
              "        </tr>\n",
              "        \n",
              "        <tr>\n",
              "          <td>2</td><td>15.098581971266196</td>\n",
              "        </tr>\n",
              "        \n",
              "        <tr>\n",
              "          <td>3</td><td>21.402752391223704</td>\n",
              "        </tr>\n",
              "        \n",
              "        <tr>\n",
              "          <td>4</td><td>19.515712391167664</td>\n",
              "        </tr>\n",
              "        \n",
              "        <tr>\n",
              "          <td>5</td><td>19.80897034037129</td>\n",
              "        </tr>\n",
              "        \n",
              "        <tr>\n",
              "          <td>6</td><td>18.95473946096996</td>\n",
              "        </tr>\n",
              "        \n",
              "        <tr>\n",
              "          <td>7</td><td>14.594439968464997</td>\n",
              "        </tr>\n",
              "        \n",
              "        <tr>\n",
              "          <td>8</td><td>20.924877201538674</td>\n",
              "        </tr>\n",
              "        <tr><td>...</td><td>...</td></tr>\n",
              "        <tr>\n",
              "          <td>9999</td><td>20.930053425861438</td>\n",
              "        </tr>\n",
              "        \n",
              "      </tbody>\n",
              "    </table>\n",
              "        "
            ]
          },
          "metadata": {},
          "execution_count": 9
        }
      ]
    },
    {
      "cell_type": "markdown",
      "source": [
        "Now we do a histogram of these samples means that come from a UNIFORM distribution"
      ],
      "metadata": {
        "id": "kks0iEj-ZrBK"
      }
    },
    {
      "cell_type": "code",
      "source": [
        "plt.clf()\n",
        "xmean.plot()\n",
        "plt.show()"
      ],
      "metadata": {
        "colab": {
          "base_uri": "https://localhost:8080/",
          "height": 265
        },
        "id": "sjgftjY_ZxpX",
        "outputId": "c3c55ac3-1646-4c99-e684-fa11a3b176f8"
      },
      "execution_count": 10,
      "outputs": [
        {
          "output_type": "display_data",
          "data": {
            "text/plain": [
              "<Figure size 432x288 with 1 Axes>"
            ],
            "image/png": "[encoded data removed]"
          },
          "metadata": {
            "needs_background": "light"
          }
        }
      ]
    },
    {
      "cell_type": "markdown",
      "source": [
        "\n",
        "\n",
        "> ***2.2.3 CHALLENGE***\n",
        "\n",
        "A. Calculate the mean and standard deviation of the **xmean** variable. How similar or how different are these values from the mean and standard deviation of x?\n",
        "\n"
      ],
      "metadata": {
        "id": "di81ZyKnZ8mT"
      }
    },
    {
      "cell_type": "code",
      "source": [
        "# Calculate mean\n",
        "mean = xmean.mean()\n",
        "print(\"The mean of the xmean variable is: \", mean)\n",
        "# Calculate standard deviation\n",
        "std = xmean.std()\n",
        "print(\"The standard deviation of xmean variable is: \", std)"
      ],
      "metadata": {
        "colab": {
          "base_uri": "https://localhost:8080/"
        },
        "id": "uC7klE6AaWdg",
        "outputId": "6eb14b40-8d14-44d1-9f28-7129de820aa2"
      },
      "execution_count": 11,
      "outputs": [
        {
          "output_type": "stream",
          "name": "stdout",
          "text": [
            "The mean of the xmean variable is:  19.9949656851603\n",
            "The standard deviation of xmean variable is:  2.286693780191232\n"
          ]
        }
      ]
    },
    {
      "cell_type": "markdown",
      "source": [
        "INTERPRETATION:\n",
        "\n",
        "> HAVING CALCULATED BOTH VALUES WE CAN SAY THAT THE STD OF THE XMEAN VARIABLE IS VERY DIFERENT, SINCE THE VALUE OF THE STD FOR THE X VARIABLE WAS 11.48M THIS IS BECAUSE WE ARE CALCULATING IT FOR ROWS WHERE THE MEAN IS ALWAYS SIMILAR, AS WE CAN SEE THE VALUE OBTAINED FOR THE XMEAN VARIABLE WAS 20.\n",
        "\n"
      ],
      "metadata": {
        "id": "LdijMbFxalXu"
      }
    },
    {
      "cell_type": "markdown",
      "source": [
        "B. What do you see in the above histogram? Does the histogram of sample means of uniform random variable look like a uniform distibuted variable? Do you see a logic? Briefly explain what do you think.\n",
        "\n",
        "INTERPRETATION:\n",
        "\n",
        "\n",
        "> THE HISTOGRAM ABOVE HAS A BELL SHAPE OR A NORMAL DISTRIBUTION, IT IS POSSIBLE TO SEE THE LOGIC IN THAT BECAUSE THE MEAN WAS CALCULATED BY ROWS, WHICH INDICATES A SIMILAR MEAN FOR EACH ROW. \n",
        "\n"
      ],
      "metadata": {
        "id": "vGYvw8NHdBkx"
      }
    },
    {
      "cell_type": "markdown",
      "source": [
        "Now plot both variables in the same plot"
      ],
      "metadata": {
        "id": "bB_RdmxgeAIO"
      }
    },
    {
      "cell_type": "code",
      "source": [
        "plt.clf()\n",
        "xmean.plot()\n",
        "x.plot()\n",
        "plt.show()"
      ],
      "metadata": {
        "colab": {
          "base_uri": "https://localhost:8080/",
          "height": 265
        },
        "id": "30oA18VhePDj",
        "outputId": "59661678-c249-414b-9ad8-a861406b0caf"
      },
      "execution_count": 12,
      "outputs": [
        {
          "output_type": "display_data",
          "data": {
            "text/plain": [
              "<Figure size 432x288 with 1 Axes>"
            ],
            "image/png": "[encoded data removed]"
          },
          "metadata": {
            "needs_background": "light"
          }
        }
      ]
    },
    {
      "cell_type": "markdown",
      "source": [
        "C. What do you see? How the histogram of X differs from the histogram of the samples of X?\n",
        "\n",
        "INTERPRETATION:\n",
        "\n",
        "\n",
        "> THE PLOT FOR THE XMEAN SHOWS A NORMAL DISTRIBUTION BECAUSE OF ITS BELL SHAPE, THIS IS DUE TO THE FACT THAT ITS MADE WITH THE CALCULATIONS OF THE MEAN, HOWEVER THE SAMPLES OF X HAVE A UNIFORM DISTRIBUTION ALONG THE PLOT BECAUSE ITS JUST SHOWING THE NUMBER OF TIMES A NUMBER FROM 0-40 ITS REPEATED. \n",
        "\n"
      ],
      "metadata": {
        "id": "LsJNRDMCeSID"
      }
    },
    {
      "cell_type": "markdown",
      "source": [
        "***2.2.4 Simulationg numbers with the NORMAL probability distribution***\n",
        "\n",
        "Let´s simulate a normal distributed variable Y with mean = 20 and std = 10"
      ],
      "metadata": {
        "id": "GAev-hr7fjGE"
      }
    },
    {
      "cell_type": "code",
      "source": [
        "# clear the plot space:\n",
        "plt.clf()\n",
        "# Define the probability type of function as uniform (probability space)\n",
        "P = Normal(mean=20, sd=10)\n",
        "# Define Y as a random variable of the type P (normal)\n",
        "Y =RV(P)\n",
        "# Simulate 10,000 values of Y and save the in the x array: \n",
        "y=Y.sim(10000)\n",
        "y.plot()\n",
        "plt.show()"
      ],
      "metadata": {
        "colab": {
          "base_uri": "https://localhost:8080/",
          "height": 268
        },
        "id": "Pbil49LBfxbh",
        "outputId": "bdf94e83-1da2-4b88-e2cb-d4c6efe78f78"
      },
      "execution_count": 13,
      "outputs": [
        {
          "output_type": "display_data",
          "data": {
            "text/plain": [
              "<Figure size 432x288 with 1 Axes>"
            ],
            "image/png": "[encoded data removed]"
          },
          "metadata": {
            "needs_background": "light"
          }
        }
      ]
    },
    {
      "cell_type": "markdown",
      "source": [
        "> ***2.2.5 CHALENGE*** \n",
        "\n",
        "A. Calculate the mean and std of this random Y variable. How similar or different are this values from the mean and std of the theoretical mean(20) and the theoretical std(10)?\n",
        "\n"
      ],
      "metadata": {
        "id": "t0uHViQyf4g0"
      }
    },
    {
      "cell_type": "code",
      "source": [
        "# Calculate mean\n",
        "mean = y.mean()\n",
        "print(\"The mean of the random Y variable is: \", mean)\n",
        "# Calculate standard deviation\n",
        "std = y.std()\n",
        "print(\"The standard deviation of the random Y variable is: \", std)"
      ],
      "metadata": {
        "colab": {
          "base_uri": "https://localhost:8080/"
        },
        "id": "mj9tTLczgSR3",
        "outputId": "57affff1-1768-42ba-ee08-c9ee07d8f861"
      },
      "execution_count": 14,
      "outputs": [
        {
          "output_type": "stream",
          "name": "stdout",
          "text": [
            "The mean of the random Y variable is:  20.211581528436586\n",
            "The standard deviation of the random Y variable is:  10.119995184873337\n"
          ]
        }
      ]
    },
    {
      "cell_type": "markdown",
      "source": [
        "INTERPRETATION:\n",
        "\n",
        "\n",
        "\n",
        "> ONCE WE DID THE CALCULATION OF THE MEAN AND STD WE CAN CONCLUDE THAT BOTH ARE PRETTY SIMILAR ALMOST THE SAME AS THE THEORETICAL VALUES \n",
        "\n",
        "\n",
        "\n"
      ],
      "metadata": {
        "id": "bezchkEOvMln"
      }
    },
    {
      "cell_type": "markdown",
      "source": [
        "B. What do you see? Interpret the histogram with your words.\n",
        "\n",
        "INTERPRETATION:\n",
        "\n",
        "\n",
        "\n",
        "> THE HISTOGRAM DISPLAYED ABOVE INDICATES THAT IN THIS CASE THE MAJORITY OF THE NUMBERS ARE BETWEEN 10 TO 30, WHICH MAKES SENSE BECAUSE THE RANGE GOES FROM 0 TO 40, AND IT HAS A BELL SHAPE BECAUSE OF ITS NORMAL DISTRIBUTION. \n"
      ],
      "metadata": {
        "id": "9op-3JYsv9bL"
      }
    },
    {
      "cell_type": "markdown",
      "source": [
        "Now generate 10,000 groups of 25 normal random values with mean=20 and sd=10. We will end up with a matrix of 10,000 rows and 25 columns."
      ],
      "metadata": {
        "id": "WwyErsSnwvQo"
      }
    },
    {
      "cell_type": "code",
      "source": [
        "# Define the probability space P as a vector of 25 normal random numbers:\n",
        "P = Normal(mean=20, sd=10) ** 25\n",
        "# Define RANDOMVECTOR as a vector of 25 random variables in the Probability space P \n",
        "RANDOMVECTOR = RV(P)\n",
        "# Simulate 10,000 random vectors with this distribution and save the in ymatrix: \n",
        "ymatrix=RANDOMVECTOR.sim(10000)"
      ],
      "metadata": {
        "id": "oxK-sSZNw-Uw"
      },
      "execution_count": 15,
      "outputs": []
    },
    {
      "cell_type": "markdown",
      "source": [
        "Now ymatrix will have 10,000 rows and 25 columns of NORMAL random numbers with mean=20 and sd=10"
      ],
      "metadata": {
        "id": "3OoPb49mxBCV"
      }
    },
    {
      "cell_type": "code",
      "source": [
        "ymatrix"
      ],
      "metadata": {
        "colab": {
          "base_uri": "https://localhost:8080/",
          "height": 449
        },
        "id": "Ttb66tmmxJft",
        "outputId": "fd72fa10-0bcb-4772-a5c6-b2fb75f44233"
      },
      "execution_count": 16,
      "outputs": [
        {
          "output_type": "execute_result",
          "data": {
            "text/plain": [
              "Index Result\n",
              "0     (26.8511214080839, 31.48514223568175, 44.79473313050106, 25.467421788084305, 23.224476423376615, ..., 22.029961251437058)\n",
              "1     (22.50558758280728, 14.361845444878483, 22.806839314848528, 12.650248705770494, -1.1222539448335525, ..., 21.377163811500694)\n",
              "2     (27.280145485017112, 7.536749021690625, 28.207037059503023, 10.461097790871245, 17.334525253130238, ..., 8.945019271812523)\n",
              "3     (14.11340187369234, 25.14478023701873, 33.477329755493926, 32.13754035488628, 36.05396094534681, ..., 24.917704879569154)\n",
              "4     (13.60919235844187, 27.93114836219079, 20.01430190667687, 34.86006278077095, 15.435364167988336, ..., 26.305732574360867)\n",
              "5     (18.0671039258249, 10.548974595117329, 18.349413697106684, 4.625894146267722, 18.74518162750456, ..., 34.81589120791526)\n",
              "6     (23.038478126067634, 10.092884515650303, 7.349574783887181, 13.823604056869604, 19.694092262306558, ..., -1.7748126172401442)\n",
              "7     (27.94277219411031, 3.5776823754233398, 39.35604179471429, 24.49003695007455, 24.341097758991864, ..., 14.005889103953791)\n",
              "8     (8.764293689590026, 19.308512105223823, 18.945869885418748, 10.26946566413325, 20.451835646388364, ..., 18.904250462160334)\n",
              "....  .........................................................................................................................\n",
              "9999  (26.06519117462695, 20.643956013982617, 12.36904118297055, 19.186315688478793, 21.91952617873276, ..., 7.494843478706951)"
            ],
            "text/html": [
              "\n",
              "    <table>\n",
              "      <thead>\n",
              "        <th width=\"10%\">Index</th>\n",
              "        <th width=\"90%\">Result</th>\n",
              "      </thead>\n",
              "      <tbody>\n",
              "        \n",
              "        <tr>\n",
              "          <td>0</td><td>(26.8511214080839, 31.48514223568175, 44.79473313050106, 25.467421788084305, 23.224476423376615, ......</td>\n",
              "        </tr>\n",
              "        \n",
              "        <tr>\n",
              "          <td>1</td><td>(22.50558758280728, 14.361845444878483, 22.806839314848528, 12.650248705770494, -1.1222539448335525,...</td>\n",
              "        </tr>\n",
              "        \n",
              "        <tr>\n",
              "          <td>2</td><td>(27.280145485017112, 7.536749021690625, 28.207037059503023, 10.461097790871245, 17.334525253130238, ...</td>\n",
              "        </tr>\n",
              "        \n",
              "        <tr>\n",
              "          <td>3</td><td>(14.11340187369234, 25.14478023701873, 33.477329755493926, 32.13754035488628, 36.05396094534681, ......</td>\n",
              "        </tr>\n",
              "        \n",
              "        <tr>\n",
              "          <td>4</td><td>(13.60919235844187, 27.93114836219079, 20.01430190667687, 34.86006278077095, 15.435364167988336, ......</td>\n",
              "        </tr>\n",
              "        \n",
              "        <tr>\n",
              "          <td>5</td><td>(18.0671039258249, 10.548974595117329, 18.349413697106684, 4.625894146267722, 18.74518162750456, ......</td>\n",
              "        </tr>\n",
              "        \n",
              "        <tr>\n",
              "          <td>6</td><td>(23.038478126067634, 10.092884515650303, 7.349574783887181, 13.823604056869604, 19.694092262306558, ...</td>\n",
              "        </tr>\n",
              "        \n",
              "        <tr>\n",
              "          <td>7</td><td>(27.94277219411031, 3.5776823754233398, 39.35604179471429, 24.49003695007455, 24.341097758991864, .....</td>\n",
              "        </tr>\n",
              "        \n",
              "        <tr>\n",
              "          <td>8</td><td>(8.764293689590026, 19.308512105223823, 18.945869885418748, 10.26946566413325, 20.451835646388364, ....</td>\n",
              "        </tr>\n",
              "        <tr><td>...</td><td>...</td></tr>\n",
              "        <tr>\n",
              "          <td>9999</td><td>(26.06519117462695, 20.643956013982617, 12.36904118297055, 19.186315688478793, 21.91952617873276, .....</td>\n",
              "        </tr>\n",
              "        \n",
              "      </tbody>\n",
              "    </table>\n",
              "        "
            ]
          },
          "metadata": {},
          "execution_count": 16
        }
      ]
    },
    {
      "cell_type": "markdown",
      "source": [
        "Now we get the mean of each vector to get 10,000 sample means"
      ],
      "metadata": {
        "id": "KL7DqPDtxMXh"
      }
    },
    {
      "cell_type": "code",
      "source": [
        "# The 2nd parameter is the mathematical operation applied to each row of the random vector\n",
        "# Simulate 10,000 means of each random vector of 25 uniform distributed numbers: \n",
        "ymean = RV(P,mean).sim(10000)\n",
        "ymean"
      ],
      "metadata": {
        "colab": {
          "base_uri": "https://localhost:8080/",
          "height": 275
        },
        "id": "WCv5A66PxS25",
        "outputId": "aead3324-3fef-449c-e60f-d42868906938"
      },
      "execution_count": 19,
      "outputs": [
        {
          "output_type": "execute_result",
          "data": {
            "text/plain": [
              "Index Result\n",
              "0     21.654682359604884\n",
              "1     18.578250488246173\n",
              "2     22.5982734402369\n",
              "3     20.12881416984203\n",
              "4     21.1879566079402\n",
              "5     20.02913039962884\n",
              "6     20.53535343878726\n",
              "7     23.074516240962765\n",
              "8     19.702191233210925\n",
              "....  .................\n",
              "9999  19.67069765057092"
            ],
            "text/html": [
              "\n",
              "    <table>\n",
              "      <thead>\n",
              "        <th width=\"10%\">Index</th>\n",
              "        <th width=\"90%\">Result</th>\n",
              "      </thead>\n",
              "      <tbody>\n",
              "        \n",
              "        <tr>\n",
              "          <td>0</td><td>21.654682359604884</td>\n",
              "        </tr>\n",
              "        \n",
              "        <tr>\n",
              "          <td>1</td><td>18.578250488246173</td>\n",
              "        </tr>\n",
              "        \n",
              "        <tr>\n",
              "          <td>2</td><td>22.5982734402369</td>\n",
              "        </tr>\n",
              "        \n",
              "        <tr>\n",
              "          <td>3</td><td>20.12881416984203</td>\n",
              "        </tr>\n",
              "        \n",
              "        <tr>\n",
              "          <td>4</td><td>21.1879566079402</td>\n",
              "        </tr>\n",
              "        \n",
              "        <tr>\n",
              "          <td>5</td><td>20.02913039962884</td>\n",
              "        </tr>\n",
              "        \n",
              "        <tr>\n",
              "          <td>6</td><td>20.53535343878726</td>\n",
              "        </tr>\n",
              "        \n",
              "        <tr>\n",
              "          <td>7</td><td>23.074516240962765</td>\n",
              "        </tr>\n",
              "        \n",
              "        <tr>\n",
              "          <td>8</td><td>19.702191233210925</td>\n",
              "        </tr>\n",
              "        <tr><td>...</td><td>...</td></tr>\n",
              "        <tr>\n",
              "          <td>9999</td><td>19.67069765057092</td>\n",
              "        </tr>\n",
              "        \n",
              "      </tbody>\n",
              "    </table>\n",
              "        "
            ]
          },
          "metadata": {},
          "execution_count": 19
        }
      ]
    },
    {
      "cell_type": "markdown",
      "source": [
        "Now do a histogram of these samples means of Y"
      ],
      "metadata": {
        "id": "i-ZisQaPxYk-"
      }
    },
    {
      "cell_type": "code",
      "source": [
        "plt.clf()\n",
        "ymean.plot()\n",
        "plt.show()"
      ],
      "metadata": {
        "colab": {
          "base_uri": "https://localhost:8080/",
          "height": 265
        },
        "id": "m4XC--o2xb5G",
        "outputId": "2d94891f-d94d-4522-fd1d-decdf7a992f3"
      },
      "execution_count": 20,
      "outputs": [
        {
          "output_type": "display_data",
          "data": {
            "text/plain": [
              "<Figure size 432x288 with 1 Axes>"
            ],
            "image/png": "[encoded data removed]"
          },
          "metadata": {
            "needs_background": "light"
          }
        }
      ]
    },
    {
      "cell_type": "markdown",
      "source": [
        "***2.2.6 CHALLENGE***\n",
        "\n",
        "A. Calculate the mean and standard deviation of the ymean variable. How similar or different are these values from the mean and standard deviation of y?"
      ],
      "metadata": {
        "id": "zfOFMDyTxjlc"
      }
    },
    {
      "cell_type": "code",
      "source": [
        "# Calculate mean\n",
        "yvmean = ymean.mean()\n",
        "print(\"The mean of the random Y variable is: \", yvmean)\n",
        "# Calculate standard deviation\n",
        "yvstd = ymean.std()\n",
        "print(\"The standard deviation of the random Y variable is: \", yvstd)"
      ],
      "metadata": {
        "colab": {
          "base_uri": "https://localhost:8080/"
        },
        "id": "pAnvd8GBqS8l",
        "outputId": "800c59a1-663b-4911-9ddf-0aca58f9214a"
      },
      "execution_count": 21,
      "outputs": [
        {
          "output_type": "stream",
          "name": "stdout",
          "text": [
            "The mean of the random Y variable is:  20.037248196249067\n",
            "The standard deviation of the random Y variable is:  2.0044088179283452\n"
          ]
        }
      ]
    },
    {
      "cell_type": "markdown",
      "source": [
        "\n",
        "\n",
        "> INTERPRETATION:\n",
        "\n",
        "WE CAN SEE A CLEAR DIFFERENCE ON THE CALCULATED VALUES, MORE SPECIFICLY ON THE STD VARIABLE ITS LOWER THAN THE RANDOM VARIABLE SINCE WE ALREADY MADE THE MEAN CALCULATIONS, HOWEVER THE MEAN STAYS SIMILAR.\n",
        "\n"
      ],
      "metadata": {
        "id": "wts714y9qt__"
      }
    },
    {
      "cell_type": "markdown",
      "source": [
        "Now plot both histograms, the histogram of y and the histogram of y mean"
      ],
      "metadata": {
        "id": "8BfcNHMgs_xl"
      }
    },
    {
      "cell_type": "code",
      "source": [
        "plt.clf()\n",
        "ymean.plot()\n",
        "y.plot()\n",
        "plt.show()"
      ],
      "metadata": {
        "colab": {
          "base_uri": "https://localhost:8080/",
          "height": 265
        },
        "id": "zxrg9gRQs-T1",
        "outputId": "865ce583-2a01-459d-bc73-b0386c89f9b6"
      },
      "execution_count": 22,
      "outputs": [
        {
          "output_type": "display_data",
          "data": {
            "text/plain": [
              "<Figure size 432x288 with 1 Axes>"
            ],
            "image/png": "[encoded data removed]"
          },
          "metadata": {
            "needs_background": "light"
          }
        }
      ]
    },
    {
      "cell_type": "markdown",
      "source": [
        "C. What do you see? Compare both histograms. Briefly explain what you think happened.\n",
        "\n",
        "INTERPRETATION:\n",
        "\n",
        "\n",
        "\n",
        "> COMPARING BOTH HISTOGRAMS IT IS POSSIBLE TO SEE THE DIFFERENCE OF VALUES BETWEEN THE VARIABLES AND ITS MEANS, BOTH GRAPHS HAVE A NORMAL DISTRIBUTION BECAUSE OF THE BELL SHAPE. THE DIFFERENCE IS NOTICABLE AND WE CAN SEE A SIMILAR AVERAGE.\n",
        "\n"
      ],
      "metadata": {
        "id": "KyT_fN42s_HL"
      }
    },
    {
      "cell_type": "markdown",
      "source": [
        "**3. The CLT Definition**\n",
        "\n",
        "For any random variable with any probability distribution, when you take random samples, the sample mean will have the next characteristics:\n",
        "\n",
        "\n",
        "\n",
        "1.   The distribution of the sample means will be close to the normal distribution when you take many groups. This happens not only with the sample mean, but also with other linear combinations such as the sum or weighted average. \n",
        "2. The STD means will be much less than the STD of the individuals.  \n",
        "\n",
        "No matter the original probability distribution of any random variable, if we take groups of this variable, a) the means of these groups will have a probability distribution close to the normal distribution, and b) the std of the mean will shrink according to the number of elements of each group. \n",
        "\n",
        "\n"
      ],
      "metadata": {
        "id": "EAl4QVeKv-H0"
      }
    },
    {
      "cell_type": "markdown",
      "source": [
        "**4. Hypotesis Testing**\n",
        "\n",
        "The idea of hypotesis testing is to provide strong evidence about a specific belief that is usally supported by a theorem or common sense. This belief is called the Alternative Hypotesis. \n",
        "\n",
        "HO = The Null Hypothesis\n",
        "\n",
        "Ha = Alternative Hypothesis\n",
        "\n"
      ],
      "metadata": {
        "id": "mnbRXwc-xuhL"
      }
    },
    {
      "cell_type": "markdown",
      "source": [
        "> ***4.1 CHALLENGE***\n",
        "\n",
        "Collect data for Microsoft (MSFT) stock and do a hypothesis testing to see wheter the mean of monthly cc return of Microsoft is greater than 0. \n",
        "\n",
        "Collecting the data."
      ],
      "metadata": {
        "id": "P_UYxzRcHJrU"
      }
    },
    {
      "cell_type": "code",
      "source": [
        "!pip install --upgrade pandas\n",
        "!pip install --upgrade pandas-datareader"
      ],
      "metadata": {
        "id": "DxsgH2UyJM9w"
      },
      "execution_count": null,
      "outputs": []
    },
    {
      "cell_type": "code",
      "source": [
        "import pandas_datareader as pdr"
      ],
      "metadata": {
        "id": "_sDXuggeIvFw"
      },
      "execution_count": 23,
      "outputs": []
    },
    {
      "cell_type": "code",
      "source": [
        "MSFT_data = pdr.get_data_yahoo('MSFT', start=\"01/01/2017\",end=\"01/01/2021\", interval=\"m\")\n",
        "MSFT_data"
      ],
      "metadata": {
        "colab": {
          "base_uri": "https://localhost:8080/",
          "height": 1000
        },
        "id": "aaj6zC4wH5Jp",
        "outputId": "ec0966b7-3214-4cff-96f9-fba195491c2b"
      },
      "execution_count": 24,
      "outputs": [
        {
          "output_type": "execute_result",
          "data": {
            "text/plain": [
              "                  High         Low        Open       Close        Volume  \\\n",
              "Date                                                                       \n",
              "2017-01-01   65.910004   61.950001   62.790001   64.650002  4.934535e+08   \n",
              "2017-02-01   65.239998   62.750000   64.360001   63.980000  4.407440e+08   \n",
              "2017-03-01   66.190002   63.619999   64.129997   65.860001  4.891697e+08   \n",
              "2017-04-01   69.139999   64.849998   65.809998   68.459999  4.331912e+08   \n",
              "2017-05-01   70.739998   67.139999   68.680000   69.839996  5.172185e+08   \n",
              "2017-06-01   72.889999   68.089996   70.239998   68.930000  6.297168e+08   \n",
              "2017-07-01   74.419998   68.019997   69.330002   72.699997  4.698512e+08   \n",
              "2017-08-01   74.959999   71.279999   73.099998   74.769997  4.440705e+08   \n",
              "2017-09-01   75.970001   72.919998   74.709999   74.489998  3.759839e+08   \n",
              "2017-10-01   86.199997   73.709999   74.709999   83.180000  4.499500e+08   \n",
              "2017-11-01   85.059998   82.239998   83.680000   84.169998  4.219260e+08   \n",
              "2017-12-01   87.500000   80.699997   83.599998   85.540001  4.662033e+08   \n",
              "2018-01-01   95.449997   85.500000   86.129997   95.010002  5.742584e+08   \n",
              "2018-02-01   96.070000   83.830002   94.790001   93.769997  7.256633e+08   \n",
              "2018-03-01   97.239998   87.080002   93.989998   91.269997  7.507548e+08   \n",
              "2018-04-01   97.900002   87.510002   90.470001   93.519997  6.681307e+08   \n",
              "2018-05-01   99.989998   92.449997   93.209999   98.839996  5.094179e+08   \n",
              "2018-06-01  102.690002   97.260002   99.279999   98.610001  6.025852e+08   \n",
              "2018-07-01  111.150002   98.000000   98.099998  106.080002  5.693523e+08   \n",
              "2018-08-01  112.779999  104.839996  106.029999  112.330002  4.566281e+08   \n",
              "2018-09-01  115.290001  107.230003  110.849998  114.370003  4.802555e+08   \n",
              "2018-10-01  116.180000  100.110001  114.750000  106.809998  9.275480e+08   \n",
              "2018-11-01  112.239998   99.349998  107.050003  110.889999  7.202286e+08   \n",
              "2018-12-01  113.419998   93.959999  113.000000  101.570000  9.443146e+08   \n",
              "2019-01-01  107.900002   97.199997   99.550003  104.430000  7.142128e+08   \n",
              "2019-02-01  113.239998  102.349998  103.779999  112.029999  4.690959e+08   \n",
              "2019-03-01  120.820000  108.800003  112.889999  117.940002  5.890958e+08   \n",
              "2019-04-01  131.369995  118.099998  118.949997  130.600006  4.331577e+08   \n",
              "2019-05-01  130.649994  123.040001  130.529999  123.680000  5.472188e+08   \n",
              "2019-06-01  138.399994  119.010002  123.849998  133.960007  5.083243e+08   \n",
              "2019-07-01  141.679993  134.669998  136.630005  136.270004  4.840799e+08   \n",
              "2019-08-01  140.940002  130.779999  137.000000  137.860001  5.844820e+08   \n",
              "2019-09-01  142.369995  134.509995  136.610001  139.029999  4.725448e+08   \n",
              "2019-10-01  145.669998  133.220001  139.660004  143.369995  5.495234e+08   \n",
              "2019-11-01  152.500000  142.970001  144.259995  151.380005  3.923718e+08   \n",
              "2019-12-01  159.550003  146.649994  151.809998  157.699997  4.503033e+08   \n",
              "2020-01-01  174.050003  156.509995  158.779999  170.229996  5.585300e+08   \n",
              "2020-02-01  190.699997  152.000000  170.429993  162.009995  8.875223e+08   \n",
              "2020-03-01  175.000000  132.520004  165.309998  157.710007  1.612696e+09   \n",
              "2020-04-01  180.399994  150.360001  153.000000  179.210007  9.847050e+08   \n",
              "2020-05-01  187.509995  173.800003  175.800003  183.250000  6.888450e+08   \n",
              "2020-06-01  204.399994  181.350006  182.539993  203.509995  7.649654e+08   \n",
              "2020-07-01  216.380005  197.509995  203.139999  205.009995  7.701908e+08   \n",
              "2020-08-01  231.149994  203.139999  211.520004  225.529999  6.924239e+08   \n",
              "2020-09-01  232.860001  196.250000  225.509995  210.330002  7.681763e+08   \n",
              "2020-10-01  225.210007  199.619995  213.490005  202.470001  6.316180e+08   \n",
              "2020-11-01  228.119995  200.119995  204.289993  214.070007  5.734430e+08   \n",
              "2020-12-01  227.179993  209.110001  214.509995  222.419998  5.947617e+08   \n",
              "2021-01-01  242.639999  211.940002  222.529999  231.960007  6.480764e+08   \n",
              "\n",
              "             Adj Close  \n",
              "Date                    \n",
              "2017-01-01   59.719967  \n",
              "2017-02-01   59.101063  \n",
              "2017-03-01   61.206551  \n",
              "2017-04-01   63.622833  \n",
              "2017-05-01   64.905319  \n",
              "2017-06-01   64.426811  \n",
              "2017-07-01   67.950508  \n",
              "2017-08-01   69.885262  \n",
              "2017-09-01   69.994492  \n",
              "2017-10-01   78.160065  \n",
              "2017-11-01   79.090309  \n",
              "2017-12-01   80.781326  \n",
              "2018-01-01   89.724464  \n",
              "2018-02-01   88.553452  \n",
              "2018-03-01   86.597427  \n",
              "2018-04-01   88.732231  \n",
              "2018-05-01   93.779869  \n",
              "2018-06-01   93.967209  \n",
              "2018-07-01  101.085487  \n",
              "2018-08-01  107.041214  \n",
              "2018-09-01  109.404572  \n",
              "2018-10-01  102.172798  \n",
              "2018-11-01  106.075653  \n",
              "2018-12-01   97.580032  \n",
              "2019-01-01  100.327675  \n",
              "2019-02-01  107.629135  \n",
              "2019-03-01  113.790878  \n",
              "2019-04-01  126.005516  \n",
              "2019-05-01  119.328926  \n",
              "2019-06-01  129.725708  \n",
              "2019-07-01  131.962723  \n",
              "2019-08-01  133.502426  \n",
              "2019-09-01  135.083771  \n",
              "2019-10-01  139.300568  \n",
              "2019-11-01  147.083237  \n",
              "2019-12-01  153.745224  \n",
              "2020-01-01  165.960999  \n",
              "2020-02-01  157.947144  \n",
              "2020-03-01  154.174957  \n",
              "2020-04-01  175.193024  \n",
              "2020-05-01  179.142471  \n",
              "2020-06-01  199.502426  \n",
              "2020-07-01  200.972885  \n",
              "2020-08-01  221.088806  \n",
              "2020-09-01  206.686539  \n",
              "2020-10-01  198.962708  \n",
              "2020-11-01  210.361771  \n",
              "2020-12-01  219.139343  \n",
              "2021-01-01  228.538651  "
            ],
            "text/html": [
              "\n",
              "  <div id=\"df-be2499fd-9c34-4e66-99e7-e19ba3228e5f\">\n",
              "    <div class=\"colab-df-container\">\n",
              "      <div>\n",
              "<style scoped>\n",
              "    .dataframe tbody tr th:only-of-type {\n",
              "        vertical-align: middle;\n",
              "    }\n",
              "\n",
              "    .dataframe tbody tr th {\n",
              "        vertical-align: top;\n",
              "    }\n",
              "\n",
              "    .dataframe thead th {\n",
              "        text-align: right;\n",
              "    }\n",
              "</style>\n",
              "<table border=\"1\" class=\"dataframe\">\n",
              "  <thead>\n",
              "    <tr style=\"text-align: right;\">\n",
              "      <th></th>\n",
              "      <th>High</th>\n",
              "      <th>Low</th>\n",
              "      <th>Open</th>\n",
              "      <th>Close</th>\n",
              "      <th>Volume</th>\n",
              "      <th>Adj Close</th>\n",
              "    </tr>\n",
              "    <tr>\n",
              "      <th>Date</th>\n",
              "      <th></th>\n",
              "      <th></th>\n",
              "      <th></th>\n",
              "      <th></th>\n",
              "      <th></th>\n",
              "      <th></th>\n",
              "    </tr>\n",
              "  </thead>\n",
              "  <tbody>\n",
              "    <tr>\n",
              "      <th>2017-01-01</th>\n",
              "      <td>65.910004</td>\n",
              "      <td>61.950001</td>\n",
              "      <td>62.790001</td>\n",
              "      <td>64.650002</td>\n",
              "      <td>4.934535e+08</td>\n",
              "      <td>59.719967</td>\n",
              "    </tr>\n",
              "    <tr>\n",
              "      <th>2017-02-01</th>\n",
              "      <td>65.239998</td>\n",
              "      <td>62.750000</td>\n",
              "      <td>64.360001</td>\n",
              "      <td>63.980000</td>\n",
              "      <td>4.407440e+08</td>\n",
              "      <td>59.101063</td>\n",
              "    </tr>\n",
              "    <tr>\n",
              "      <th>2017-03-01</th>\n",
              "      <td>66.190002</td>\n",
              "      <td>63.619999</td>\n",
              "      <td>64.129997</td>\n",
              "      <td>65.860001</td>\n",
              "      <td>4.891697e+08</td>\n",
              "      <td>61.206551</td>\n",
              "    </tr>\n",
              "    <tr>\n",
              "      <th>2017-04-01</th>\n",
              "      <td>69.139999</td>\n",
              "      <td>64.849998</td>\n",
              "      <td>65.809998</td>\n",
              "      <td>68.459999</td>\n",
              "      <td>4.331912e+08</td>\n",
              "      <td>63.622833</td>\n",
              "    </tr>\n",
              "    <tr>\n",
              "      <th>2017-05-01</th>\n",
              "      <td>70.739998</td>\n",
              "      <td>67.139999</td>\n",
              "      <td>68.680000</td>\n",
              "      <td>69.839996</td>\n",
              "      <td>5.172185e+08</td>\n",
              "      <td>64.905319</td>\n",
              "    </tr>\n",
              "    <tr>\n",
              "      <th>2017-06-01</th>\n",
              "      <td>72.889999</td>\n",
              "      <td>68.089996</td>\n",
              "      <td>70.239998</td>\n",
              "      <td>68.930000</td>\n",
              "      <td>6.297168e+08</td>\n",
              "      <td>64.426811</td>\n",
              "    </tr>\n",
              "    <tr>\n",
              "      <th>2017-07-01</th>\n",
              "      <td>74.419998</td>\n",
              "      <td>68.019997</td>\n",
              "      <td>69.330002</td>\n",
              "      <td>72.699997</td>\n",
              "      <td>4.698512e+08</td>\n",
              "      <td>67.950508</td>\n",
              "    </tr>\n",
              "    <tr>\n",
              "      <th>2017-08-01</th>\n",
              "      <td>74.959999</td>\n",
              "      <td>71.279999</td>\n",
              "      <td>73.099998</td>\n",
              "      <td>74.769997</td>\n",
              "      <td>4.440705e+08</td>\n",
              "      <td>69.885262</td>\n",
              "    </tr>\n",
              "    <tr>\n",
              "      <th>2017-09-01</th>\n",
              "      <td>75.970001</td>\n",
              "      <td>72.919998</td>\n",
              "      <td>74.709999</td>\n",
              "      <td>74.489998</td>\n",
              "      <td>3.759839e+08</td>\n",
              "      <td>69.994492</td>\n",
              "    </tr>\n",
              "    <tr>\n",
              "      <th>2017-10-01</th>\n",
              "      <td>86.199997</td>\n",
              "      <td>73.709999</td>\n",
              "      <td>74.709999</td>\n",
              "      <td>83.180000</td>\n",
              "      <td>4.499500e+08</td>\n",
              "      <td>78.160065</td>\n",
              "    </tr>\n",
              "    <tr>\n",
              "      <th>2017-11-01</th>\n",
              "      <td>85.059998</td>\n",
              "      <td>82.239998</td>\n",
              "      <td>83.680000</td>\n",
              "      <td>84.169998</td>\n",
              "      <td>4.219260e+08</td>\n",
              "      <td>79.090309</td>\n",
              "    </tr>\n",
              "    <tr>\n",
              "      <th>2017-12-01</th>\n",
              "      <td>87.500000</td>\n",
              "      <td>80.699997</td>\n",
              "      <td>83.599998</td>\n",
              "      <td>85.540001</td>\n",
              "      <td>4.662033e+08</td>\n",
              "      <td>80.781326</td>\n",
              "    </tr>\n",
              "    <tr>\n",
              "      <th>2018-01-01</th>\n",
              "      <td>95.449997</td>\n",
              "      <td>85.500000</td>\n",
              "      <td>86.129997</td>\n",
              "      <td>95.010002</td>\n",
              "      <td>5.742584e+08</td>\n",
              "      <td>89.724464</td>\n",
              "    </tr>\n",
              "    <tr>\n",
              "      <th>2018-02-01</th>\n",
              "      <td>96.070000</td>\n",
              "      <td>83.830002</td>\n",
              "      <td>94.790001</td>\n",
              "      <td>93.769997</td>\n",
              "      <td>7.256633e+08</td>\n",
              "      <td>88.553452</td>\n",
              "    </tr>\n",
              "    <tr>\n",
              "      <th>2018-03-01</th>\n",
              "      <td>97.239998</td>\n",
              "      <td>87.080002</td>\n",
              "      <td>93.989998</td>\n",
              "      <td>91.269997</td>\n",
              "      <td>7.507548e+08</td>\n",
              "      <td>86.597427</td>\n",
              "    </tr>\n",
              "    <tr>\n",
              "      <th>2018-04-01</th>\n",
              "      <td>97.900002</td>\n",
              "      <td>87.510002</td>\n",
              "      <td>90.470001</td>\n",
              "      <td>93.519997</td>\n",
              "      <td>6.681307e+08</td>\n",
              "      <td>88.732231</td>\n",
              "    </tr>\n",
              "    <tr>\n",
              "      <th>2018-05-01</th>\n",
              "      <td>99.989998</td>\n",
              "      <td>92.449997</td>\n",
              "      <td>93.209999</td>\n",
              "      <td>98.839996</td>\n",
              "      <td>5.094179e+08</td>\n",
              "      <td>93.779869</td>\n",
              "    </tr>\n",
              "    <tr>\n",
              "      <th>2018-06-01</th>\n",
              "      <td>102.690002</td>\n",
              "      <td>97.260002</td>\n",
              "      <td>99.279999</td>\n",
              "      <td>98.610001</td>\n",
              "      <td>6.025852e+08</td>\n",
              "      <td>93.967209</td>\n",
              "    </tr>\n",
              "    <tr>\n",
              "      <th>2018-07-01</th>\n",
              "      <td>111.150002</td>\n",
              "      <td>98.000000</td>\n",
              "      <td>98.099998</td>\n",
              "      <td>106.080002</td>\n",
              "      <td>5.693523e+08</td>\n",
              "      <td>101.085487</td>\n",
              "    </tr>\n",
              "    <tr>\n",
              "      <th>2018-08-01</th>\n",
              "      <td>112.779999</td>\n",
              "      <td>104.839996</td>\n",
              "      <td>106.029999</td>\n",
              "      <td>112.330002</td>\n",
              "      <td>4.566281e+08</td>\n",
              "      <td>107.041214</td>\n",
              "    </tr>\n",
              "    <tr>\n",
              "      <th>2018-09-01</th>\n",
              "      <td>115.290001</td>\n",
              "      <td>107.230003</td>\n",
              "      <td>110.849998</td>\n",
              "      <td>114.370003</td>\n",
              "      <td>4.802555e+08</td>\n",
              "      <td>109.404572</td>\n",
              "    </tr>\n",
              "    <tr>\n",
              "      <th>2018-10-01</th>\n",
              "      <td>116.180000</td>\n",
              "      <td>100.110001</td>\n",
              "      <td>114.750000</td>\n",
              "      <td>106.809998</td>\n",
              "      <td>9.275480e+08</td>\n",
              "      <td>102.172798</td>\n",
              "    </tr>\n",
              "    <tr>\n",
              "      <th>2018-11-01</th>\n",
              "      <td>112.239998</td>\n",
              "      <td>99.349998</td>\n",
              "      <td>107.050003</td>\n",
              "      <td>110.889999</td>\n",
              "      <td>7.202286e+08</td>\n",
              "      <td>106.075653</td>\n",
              "    </tr>\n",
              "    <tr>\n",
              "      <th>2018-12-01</th>\n",
              "      <td>113.419998</td>\n",
              "      <td>93.959999</td>\n",
              "      <td>113.000000</td>\n",
              "      <td>101.570000</td>\n",
              "      <td>9.443146e+08</td>\n",
              "      <td>97.580032</td>\n",
              "    </tr>\n",
              "    <tr>\n",
              "      <th>2019-01-01</th>\n",
              "      <td>107.900002</td>\n",
              "      <td>97.199997</td>\n",
              "      <td>99.550003</td>\n",
              "      <td>104.430000</td>\n",
              "      <td>7.142128e+08</td>\n",
              "      <td>100.327675</td>\n",
              "    </tr>\n",
              "    <tr>\n",
              "      <th>2019-02-01</th>\n",
              "      <td>113.239998</td>\n",
              "      <td>102.349998</td>\n",
              "      <td>103.779999</td>\n",
              "      <td>112.029999</td>\n",
              "      <td>4.690959e+08</td>\n",
              "      <td>107.629135</td>\n",
              "    </tr>\n",
              "    <tr>\n",
              "      <th>2019-03-01</th>\n",
              "      <td>120.820000</td>\n",
              "      <td>108.800003</td>\n",
              "      <td>112.889999</td>\n",
              "      <td>117.940002</td>\n",
              "      <td>5.890958e+08</td>\n",
              "      <td>113.790878</td>\n",
              "    </tr>\n",
              "    <tr>\n",
              "      <th>2019-04-01</th>\n",
              "      <td>131.369995</td>\n",
              "      <td>118.099998</td>\n",
              "      <td>118.949997</td>\n",
              "      <td>130.600006</td>\n",
              "      <td>4.331577e+08</td>\n",
              "      <td>126.005516</td>\n",
              "    </tr>\n",
              "    <tr>\n",
              "      <th>2019-05-01</th>\n",
              "      <td>130.649994</td>\n",
              "      <td>123.040001</td>\n",
              "      <td>130.529999</td>\n",
              "      <td>123.680000</td>\n",
              "      <td>5.472188e+08</td>\n",
              "      <td>119.328926</td>\n",
              "    </tr>\n",
              "    <tr>\n",
              "      <th>2019-06-01</th>\n",
              "      <td>138.399994</td>\n",
              "      <td>119.010002</td>\n",
              "      <td>123.849998</td>\n",
              "      <td>133.960007</td>\n",
              "      <td>5.083243e+08</td>\n",
              "      <td>129.725708</td>\n",
              "    </tr>\n",
              "    <tr>\n",
              "      <th>2019-07-01</th>\n",
              "      <td>141.679993</td>\n",
              "      <td>134.669998</td>\n",
              "      <td>136.630005</td>\n",
              "      <td>136.270004</td>\n",
              "      <td>4.840799e+08</td>\n",
              "      <td>131.962723</td>\n",
              "    </tr>\n",
              "    <tr>\n",
              "      <th>2019-08-01</th>\n",
              "      <td>140.940002</td>\n",
              "      <td>130.779999</td>\n",
              "      <td>137.000000</td>\n",
              "      <td>137.860001</td>\n",
              "      <td>5.844820e+08</td>\n",
              "      <td>133.502426</td>\n",
              "    </tr>\n",
              "    <tr>\n",
              "      <th>2019-09-01</th>\n",
              "      <td>142.369995</td>\n",
              "      <td>134.509995</td>\n",
              "      <td>136.610001</td>\n",
              "      <td>139.029999</td>\n",
              "      <td>4.725448e+08</td>\n",
              "      <td>135.083771</td>\n",
              "    </tr>\n",
              "    <tr>\n",
              "      <th>2019-10-01</th>\n",
              "      <td>145.669998</td>\n",
              "      <td>133.220001</td>\n",
              "      <td>139.660004</td>\n",
              "      <td>143.369995</td>\n",
              "      <td>5.495234e+08</td>\n",
              "      <td>139.300568</td>\n",
              "    </tr>\n",
              "    <tr>\n",
              "      <th>2019-11-01</th>\n",
              "      <td>152.500000</td>\n",
              "      <td>142.970001</td>\n",
              "      <td>144.259995</td>\n",
              "      <td>151.380005</td>\n",
              "      <td>3.923718e+08</td>\n",
              "      <td>147.083237</td>\n",
              "    </tr>\n",
              "    <tr>\n",
              "      <th>2019-12-01</th>\n",
              "      <td>159.550003</td>\n",
              "      <td>146.649994</td>\n",
              "      <td>151.809998</td>\n",
              "      <td>157.699997</td>\n",
              "      <td>4.503033e+08</td>\n",
              "      <td>153.745224</td>\n",
              "    </tr>\n",
              "    <tr>\n",
              "      <th>2020-01-01</th>\n",
              "      <td>174.050003</td>\n",
              "      <td>156.509995</td>\n",
              "      <td>158.779999</td>\n",
              "      <td>170.229996</td>\n",
              "      <td>5.585300e+08</td>\n",
              "      <td>165.960999</td>\n",
              "    </tr>\n",
              "    <tr>\n",
              "      <th>2020-02-01</th>\n",
              "      <td>190.699997</td>\n",
              "      <td>152.000000</td>\n",
              "      <td>170.429993</td>\n",
              "      <td>162.009995</td>\n",
              "      <td>8.875223e+08</td>\n",
              "      <td>157.947144</td>\n",
              "    </tr>\n",
              "    <tr>\n",
              "      <th>2020-03-01</th>\n",
              "      <td>175.000000</td>\n",
              "      <td>132.520004</td>\n",
              "      <td>165.309998</td>\n",
              "      <td>157.710007</td>\n",
              "      <td>1.612696e+09</td>\n",
              "      <td>154.174957</td>\n",
              "    </tr>\n",
              "    <tr>\n",
              "      <th>2020-04-01</th>\n",
              "      <td>180.399994</td>\n",
              "      <td>150.360001</td>\n",
              "      <td>153.000000</td>\n",
              "      <td>179.210007</td>\n",
              "      <td>9.847050e+08</td>\n",
              "      <td>175.193024</td>\n",
              "    </tr>\n",
              "    <tr>\n",
              "      <th>2020-05-01</th>\n",
              "      <td>187.509995</td>\n",
              "      <td>173.800003</td>\n",
              "      <td>175.800003</td>\n",
              "      <td>183.250000</td>\n",
              "      <td>6.888450e+08</td>\n",
              "      <td>179.142471</td>\n",
              "    </tr>\n",
              "    <tr>\n",
              "      <th>2020-06-01</th>\n",
              "      <td>204.399994</td>\n",
              "      <td>181.350006</td>\n",
              "      <td>182.539993</td>\n",
              "      <td>203.509995</td>\n",
              "      <td>7.649654e+08</td>\n",
              "      <td>199.502426</td>\n",
              "    </tr>\n",
              "    <tr>\n",
              "      <th>2020-07-01</th>\n",
              "      <td>216.380005</td>\n",
              "      <td>197.509995</td>\n",
              "      <td>203.139999</td>\n",
              "      <td>205.009995</td>\n",
              "      <td>7.701908e+08</td>\n",
              "      <td>200.972885</td>\n",
              "    </tr>\n",
              "    <tr>\n",
              "      <th>2020-08-01</th>\n",
              "      <td>231.149994</td>\n",
              "      <td>203.139999</td>\n",
              "      <td>211.520004</td>\n",
              "      <td>225.529999</td>\n",
              "      <td>6.924239e+08</td>\n",
              "      <td>221.088806</td>\n",
              "    </tr>\n",
              "    <tr>\n",
              "      <th>2020-09-01</th>\n",
              "      <td>232.860001</td>\n",
              "      <td>196.250000</td>\n",
              "      <td>225.509995</td>\n",
              "      <td>210.330002</td>\n",
              "      <td>7.681763e+08</td>\n",
              "      <td>206.686539</td>\n",
              "    </tr>\n",
              "    <tr>\n",
              "      <th>2020-10-01</th>\n",
              "      <td>225.210007</td>\n",
              "      <td>199.619995</td>\n",
              "      <td>213.490005</td>\n",
              "      <td>202.470001</td>\n",
              "      <td>6.316180e+08</td>\n",
              "      <td>198.962708</td>\n",
              "    </tr>\n",
              "    <tr>\n",
              "      <th>2020-11-01</th>\n",
              "      <td>228.119995</td>\n",
              "      <td>200.119995</td>\n",
              "      <td>204.289993</td>\n",
              "      <td>214.070007</td>\n",
              "      <td>5.734430e+08</td>\n",
              "      <td>210.361771</td>\n",
              "    </tr>\n",
              "    <tr>\n",
              "      <th>2020-12-01</th>\n",
              "      <td>227.179993</td>\n",
              "      <td>209.110001</td>\n",
              "      <td>214.509995</td>\n",
              "      <td>222.419998</td>\n",
              "      <td>5.947617e+08</td>\n",
              "      <td>219.139343</td>\n",
              "    </tr>\n",
              "    <tr>\n",
              "      <th>2021-01-01</th>\n",
              "      <td>242.639999</td>\n",
              "      <td>211.940002</td>\n",
              "      <td>222.529999</td>\n",
              "      <td>231.960007</td>\n",
              "      <td>6.480764e+08</td>\n",
              "      <td>228.538651</td>\n",
              "    </tr>\n",
              "  </tbody>\n",
              "</table>\n",
              "</div>\n",
              "      <button class=\"colab-df-convert\" onclick=\"convertToInteractive('df-be2499fd-9c34-4e66-99e7-e19ba3228e5f')\"\n",
              "              title=\"Convert this dataframe to an interactive table.\"\n",
              "              style=\"display:none;\">\n",
              "        \n",
              "  <svg xmlns=\"http://www.w3.org/2000/svg\" height=\"24px\"viewBox=\"0 0 24 24\"\n",
              "       width=\"24px\">\n",
              "    <path d=\"M0 0h24v24H0V0z\" fill=\"none\"/>\n",
              "    <path d=\"M18.56 5.44l.94 2.06.94-2.06 2.06-.94-2.06-.94-.94-2.06-.94 2.06-2.06.94zm-11 1L8.5 8.5l.94-2.06 2.06-.94-2.06-.94L8.5 2.5l-.94 2.06-2.06.94zm10 10l.94 2.06.94-2.06 2.06-.94-2.06-.94-.94-2.06-.94 2.06-2.06.94z\"/><path d=\"M17.41 7.96l-1.37-1.37c-.4-.4-.92-.59-1.43-.59-.52 0-1.04.2-1.43.59L10.3 9.45l-7.72 7.72c-.78.78-.78 2.05 0 2.83L4 21.41c.39.39.9.59 1.41.59.51 0 1.02-.2 1.41-.59l7.78-7.78 2.81-2.81c.8-.78.8-2.07 0-2.86zM5.41 20L4 18.59l7.72-7.72 1.47 1.35L5.41 20z\"/>\n",
              "  </svg>\n",
              "      </button>\n",
              "      \n",
              "  <style>\n",
              "    .colab-df-container {\n",
              "      display:flex;\n",
              "      flex-wrap:wrap;\n",
              "      gap: 12px;\n",
              "    }\n",
              "\n",
              "    .colab-df-convert {\n",
              "      background-color: #E8F0FE;\n",
              "      border: none;\n",
              "      border-radius: 50%;\n",
              "      cursor: pointer;\n",
              "      display: none;\n",
              "      fill: #1967D2;\n",
              "      height: 32px;\n",
              "      padding: 0 0 0 0;\n",
              "      width: 32px;\n",
              "    }\n",
              "\n",
              "    .colab-df-convert:hover {\n",
              "      background-color: #E2EBFA;\n",
              "      box-shadow: 0px 1px 2px rgba(60, 64, 67, 0.3), 0px 1px 3px 1px rgba(60, 64, 67, 0.15);\n",
              "      fill: #174EA6;\n",
              "    }\n",
              "\n",
              "    [theme=dark] .colab-df-convert {\n",
              "      background-color: #3B4455;\n",
              "      fill: #D2E3FC;\n",
              "    }\n",
              "\n",
              "    [theme=dark] .colab-df-convert:hover {\n",
              "      background-color: #434B5C;\n",
              "      box-shadow: 0px 1px 3px 1px rgba(0, 0, 0, 0.15);\n",
              "      filter: drop-shadow(0px 1px 2px rgba(0, 0, 0, 0.3));\n",
              "      fill: #FFFFFF;\n",
              "    }\n",
              "  </style>\n",
              "\n",
              "      <script>\n",
              "        const buttonEl =\n",
              "          document.querySelector('#df-be2499fd-9c34-4e66-99e7-e19ba3228e5f button.colab-df-convert');\n",
              "        buttonEl.style.display =\n",
              "          google.colab.kernel.accessAllowed ? 'block' : 'none';\n",
              "\n",
              "        async function convertToInteractive(key) {\n",
              "          const element = document.querySelector('#df-be2499fd-9c34-4e66-99e7-e19ba3228e5f');\n",
              "          const dataTable =\n",
              "            await google.colab.kernel.invokeFunction('convertToInteractive',\n",
              "                                                     [key], {});\n",
              "          if (!dataTable) return;\n",
              "\n",
              "          const docLinkHtml = 'Like what you see? Visit the ' +\n",
              "            '<a target=\"_blank\" href=https://colab.research.google.com/notebooks/data_table.ipynb>data table notebook</a>'\n",
              "            + ' to learn more about interactive tables.';\n",
              "          element.innerHTML = '';\n",
              "          dataTable['output_type'] = 'display_data';\n",
              "          await google.colab.output.renderOutput(dataTable, element);\n",
              "          const docLink = document.createElement('div');\n",
              "          docLink.innerHTML = docLinkHtml;\n",
              "          element.appendChild(docLink);\n",
              "        }\n",
              "      </script>\n",
              "    </div>\n",
              "  </div>\n",
              "  "
            ]
          },
          "metadata": {},
          "execution_count": 24
        }
      ]
    },
    {
      "cell_type": "code",
      "source": [
        "MSFT_data[\"r\"] = np.log(MSFT_data['Adj Close']) - np.log(MSFT_data['Adj Close'].shift(1)) \n",
        "MSFT_data = MSFT_data.dropna()\n"
      ],
      "metadata": {
        "id": "S2qxHPJ1JtGq"
      },
      "execution_count": 25,
      "outputs": []
    },
    {
      "cell_type": "markdown",
      "source": [
        "A. Define the variable of study: \n",
        "\n",
        "> IN THIS CASE IT WILL BE THE MEAN OF MSFT CC RETURNS\n",
        "\n",
        "B. Write the Null and the Alternative Hypotesis:\n",
        "\n",
        "> HO = THE MEAN OF CC RETURNS WILL BE EQUAL TO 0\n",
        "\n",
        "> HA = THE MEAN OF CC RETURNS WILL BE MORE THAN 0\n",
        "\n",
        "C. Calculate the STD Error, Which is the standard deviation of the variable of study.\n",
        "\n"
      ],
      "metadata": {
        "id": "fMPDo7DeJ686"
      }
    },
    {
      "cell_type": "code",
      "source": [
        "std = MSFT_data[\"r\"].std()\n",
        "print(\"The Standard Deviation of MSFT CC Returns is: \", std)\n",
        "mean = MSFT_data[\"r\"].mean()\n",
        "print(\"The Mean of MSFT CC Returns is: \", mean)\n",
        "std_error = std/np.sqrt(49)\n",
        "print(\"The Standard Error of MSFT CC Returns is: \", std_error)"
      ],
      "metadata": {
        "colab": {
          "base_uri": "https://localhost:8080/"
        },
        "id": "LjyfRYuhLJ9W",
        "outputId": "0f6eda1a-b6b0-4e1e-b014-1d1238d0640b"
      },
      "execution_count": 29,
      "outputs": [
        {
          "output_type": "stream",
          "name": "stdout",
          "text": [
            "The Standard Deviation of MSFT CC Returns is:  0.049291661643013726\n",
            "The Mean of MSFT CC Returns is:  0.027959144305383005\n",
            "The Standard Error of MSFT CC Returns is:  0.007041665949001961\n"
          ]
        }
      ]
    },
    {
      "cell_type": "markdown",
      "source": [
        "D. Calculate the t-statistic (t-value) "
      ],
      "metadata": {
        "id": "3UOzA1CDMVhc"
      }
    },
    {
      "cell_type": "code",
      "source": [
        "t_value = (mean-0)/std_error\n",
        "print(\"The T-Value of MSFT CC Returns is: \", t_value)"
      ],
      "metadata": {
        "colab": {
          "base_uri": "https://localhost:8080/"
        },
        "id": "ZXV40nXyMp1v",
        "outputId": "eb2a8389-9811-40be-84ec-3b74909e6cef"
      },
      "execution_count": 30,
      "outputs": [
        {
          "output_type": "stream",
          "name": "stdout",
          "text": [
            "The T-Value of MSFT CC Returns is:  3.9705297734757994\n"
          ]
        }
      ]
    },
    {
      "cell_type": "markdown",
      "source": [
        "> THE T-VALUE INDICATES DE DIFERENCE RELATIVE TO THE VARIATION IN THE DATA, FOR THIS CASE WE HAVE A VALUE OF 3.97 WHICH MAKES THE VALUE ACCEPTABLE. SINCE THE VALUE IS HIGH WE HAVE A GREAT CONFIDENCE IN THE COEFICIENT AS A PREDICTOR.\n",
        "\n",
        "E. Calculate the 95% confidence interval of the sample mean. "
      ],
      "metadata": {
        "id": "_X_sj-DoM5Cx"
      }
    },
    {
      "cell_type": "code",
      "source": [
        "confidence_min = mean - 2 * (std_error)\n",
        "print(\"The minimun of the confidence interval of MSFT CC return is: \", confidence_min)"
      ],
      "metadata": {
        "colab": {
          "base_uri": "https://localhost:8080/"
        },
        "id": "ATqM3_7aNurT",
        "outputId": "b1a0ced2-1e69-4c12-8896-a80072aa5fc5"
      },
      "execution_count": 31,
      "outputs": [
        {
          "output_type": "stream",
          "name": "stdout",
          "text": [
            "The minimun of the confidence interval of MSFT CC return is:  0.013875812407379083\n"
          ]
        }
      ]
    },
    {
      "cell_type": "code",
      "source": [
        "confidence_max = mean + 2 * (std_error)\n",
        "print(\"The max of the confidence interval of MSFT CC return is: \", confidence_max)"
      ],
      "metadata": {
        "colab": {
          "base_uri": "https://localhost:8080/"
        },
        "id": "ro3JeXfqOJij",
        "outputId": "41c16beb-0c8e-46fa-aa84-ca86fc813e10"
      },
      "execution_count": 32,
      "outputs": [
        {
          "output_type": "stream",
          "name": "stdout",
          "text": [
            "The max of the confidence interval of MSFT CC return is:  0.04204247620338693\n"
          ]
        }
      ]
    },
    {
      "cell_type": "markdown",
      "source": [
        "F. Write your conclusions.\n",
        "\n",
        "> THIS CONFIDENCE INTERVAL INDICATES THAT MORE THAN 95% OF THE TIME THE MEAN OF THE MSFT CC RETURNS WILL BE AROUND THE VALUES OF 0.0420 AND 0.0138\n",
        "\n"
      ],
      "metadata": {
        "id": "wxsGxwsKOUC7"
      }
    }
  ]
}